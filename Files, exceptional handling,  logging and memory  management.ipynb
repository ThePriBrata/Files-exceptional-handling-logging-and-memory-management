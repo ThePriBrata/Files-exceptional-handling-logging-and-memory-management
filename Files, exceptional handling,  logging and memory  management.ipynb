{
 "cells": [
  {
   "cell_type": "markdown",
   "id": "2173bb57-831e-4b60-9a0f-88f9778920ee",
   "metadata": {},
   "source": [
    "# Files, exceptional handling,  logging and memory  management"
   ]
  },
  {
   "cell_type": "markdown",
   "id": "77189b2c-a65f-4b12-ae0c-3de94b3d9aea",
   "metadata": {},
   "source": [
    "01.What is the difference between interpreted and compiled languages ?\n",
    "\n",
    "    -> Interpreted languages: Executed line by line (e.g., Python). No intermediate file is created. They're slower but easier to debug.\n",
    "    -> Compiled languages: Translated to machine code before execution (e.g., C, Java). Faster but require compilation before running.\n",
    "    \n",
    "02.What is exception handling in Python ?\n",
    "\n",
    "    -> It is a mechanism to handle runtime errors, ensuring the program doesn't crash and provides meaningful error messages.\n",
    "    \n",
    "03.What is the purpose of the finally block in exception handling ?\n",
    "\n",
    "    -> Code inside the finally block is always executed, regardless of whether an exception occurred. It's often used for cleanup tasks (e.g., closing files).\n",
    "    \n",
    "04.What is logging in Python ?\n",
    "\n",
    "    -> Logging allows developers to record events or messages during execution to track bugs, warnings, and other data for debugging or monitoring.\n",
    "    \n",
    "05.What is the significance of the __del__ method in Python ?\n",
    "\n",
    "    -> The __del__ method acts as a destructor, executed when an object is destroyed. It helps in resource cleanup.\n",
    "    \n",
    "06.What is the difference between import and from ... import in Python ?\n",
    "\n",
    "    -> import module_name: Imports the entire module.\n",
    "    -> from module_name import item: Imports specific items (functions, classes).\n",
    "    \n",
    "07.How can you handle multiple exceptions in Python ?\n",
    "\n",
    "    -> Use multiple except blocks for specific exceptions or a tuple to handle multiple exceptions in a single block.\n",
    "    \n",
    "08.What is the purpose of the with statement when handling files in Python?\n",
    "\n",
    "    -> Simplifies file handling by managing resources (e.g., auto-closing files), ensuring code is clean and error-free.\n",
    "    \n",
    "09.What is the difference between multithreading and multiprocessing ?\n",
    "\n",
    "    -> Multithreading: Parallel tasks within the same process. Shares memory.\n",
    "    -> Multiprocessing: Runs tasks in separate processes. Independent memory.\n",
    "    \n",
    "10.What are the advantages of using logging in a program?\n",
    "\n",
    "    -> Tracks errors and bugs.\n",
    "    -> Records user activity.\n",
    "    -> Makes debugging easier in production.\n",
    "    \n",
    "11.What is memory management in Python ?\n",
    "\n",
    "    -> Python handles memory automatically via reference counting and garbage collection.\n",
    "    \n",
    "12.What are the basic steps involved in exception handling in Python ?\n",
    "\n",
    "    -> Use try to write code that may raise exceptions.\n",
    "    -> Use except to catch errors.\n",
    "    -> Optionally use else or finally for specific actions.\n",
    "    \n",
    "13.Why is memory management important in Python ?\n",
    "\n",
    "    -> Prevents memory leaks, optimizes performance, and ensures efficient usage of system resources.\n",
    "    \n",
    "14.What is the role of try and except in exception handling ?\n",
    "\n",
    "    -> try: Contains code that may throw exceptions. \n",
    "    -> except: Handles the exception gracefully.\n",
    "    \n",
    "15.How does Python's garbage collection system work ?\n",
    "\n",
    "    -> Collects and deallocates unreferenced objects to free memory automatically.\n",
    "    \n",
    "16.What is the purpose of the else block in exception handling ?\n",
    "\n",
    "    -> Code inside else executes only if no exceptions occur in the try block.\n",
    "    \n",
    "17.What are the common logging levels in Python ?\n",
    "\n",
    "    -> DEBUG\n",
    "    -> INFO\n",
    "    -> WARNING\n",
    "    -> ERROR\n",
    "    -> CRITICAL\n",
    "    \n",
    "18.What is the difference between os.fork() and multiprocessing in Python?\n",
    "\n",
    "    -> os.fork(): Directly creates a child process (Unix-specific).\n",
    "    -> multiprocessing: Cross-platform library for parallel processing.\n",
    "    \n",
    "19.What is the importance of closing a file in Python ?\n",
    "\n",
    "    -> Prevents resource leaks, ensures data is saved, and avoids errors in further access.\n",
    "    \n",
    "20.What is the difference between file.read() and file.readline() in Python ?\n",
    "\n",
    "    -> file.read(): Reads the entire file.\n",
    "    -> file.readline(): Reads one line at a time.\n",
    "    \n",
    "21.What is the logging module in Python used for ?\n",
    "\n",
    "    -> To record logs for debugging, monitoring, and tracking program flow.\n",
    "    \n",
    "22.What is the os module in Python used for in file handling?\n",
    "\n",
    "    -> Helps interact with the operating system, handling files and directories.\n",
    "    \n",
    "23.What are the challenges associated with memory management in Python ?\n",
    "\n",
    "    -> Circular references.\n",
    "    -> High memory consumption.\n",
    "    -> Manual management in special cases.\n",
    "    \n",
    "24.How do you raise an exception manually in Python ?\n",
    "\n",
    "    -> Use the raise keyword followed by an exception (e.g., raise ValueError(\"Invalid input\")).\n",
    "    \n",
    "25.Why is it important to use multithreading in certain applications ?\n",
    "\n",
    "    -> Improves performance, manages I/O-bound tasks efficiently, and ensures better resource utilization."
   ]
  },
  {
   "cell_type": "markdown",
   "id": "0039554f-d84e-4a87-8a04-0441f3f6f833",
   "metadata": {},
   "source": [
    "# Practical Questions"
   ]
  },
  {
   "cell_type": "code",
   "execution_count": 1,
   "id": "f8290cf7-fe90-4000-96f9-ff0c2c464977",
   "metadata": {},
   "outputs": [],
   "source": [
    "#01.How can you open a file for writing in Python and write a string to it ?\n",
    "# Open a file in write mode\n",
    "with open(\"example.txt\", \"w\") as file:\n",
    "    # Write a string to the file\n",
    "    file.write(\"Hello, this is a string written to the file!\")\n",
    "\n",
    "# The 'with' statement ensures the file is automatically closed after writing\n"
   ]
  },
  {
   "cell_type": "code",
   "execution_count": 2,
   "id": "7ec7b74e-eed5-4015-81cc-9262d526444e",
   "metadata": {},
   "outputs": [
    {
     "name": "stdout",
     "output_type": "stream",
     "text": [
      "Hello, this is a string written to the file!\n"
     ]
    }
   ],
   "source": [
    "#02.Write a Python program to read the contents of a file and print each line ?\n",
    "# Open the file in read mode\n",
    "with open(\"example.txt\", \"r\") as file:\n",
    "    # Loop through each line in the file\n",
    "    for line in file:\n",
    "        # Print the current line\n",
    "        print(line.strip())  # Using strip() to remove any extra whitespace or newline characters\n"
   ]
  },
  {
   "cell_type": "code",
   "execution_count": 3,
   "id": "0897da2b-6c0d-474e-9e28-a87a6ab72c96",
   "metadata": {},
   "outputs": [
    {
     "name": "stdout",
     "output_type": "stream",
     "text": [
      "Error: The file does not exist. Please check the file name and try again.\n"
     ]
    }
   ],
   "source": [
    "#03. How would you handle a case where the file doesn't exist while trying to open it for reading?\n",
    "try:\n",
    "    # Attempt to open the file in read mode\n",
    "    with open(\"non_existent_file.txt\", \"r\") as file:\n",
    "        content = file.read()\n",
    "        print(content)\n",
    "except FileNotFoundError:\n",
    "    # Handle the case where the file doesn't exist\n",
    "    print(\"Error: The file does not exist. Please check the file name and try again.\")\n"
   ]
  },
  {
   "cell_type": "code",
   "execution_count": 1,
   "id": "06632943-7acc-4252-8d2d-0a39f8aef595",
   "metadata": {},
   "outputs": [
    {
     "name": "stdout",
     "output_type": "stream",
     "text": [
      "The file input.txt does not exist.\n"
     ]
    }
   ],
   "source": [
    "#04.  Write a Python script that reads from one file and writes its content to another file ?\n",
    "# Function to copy content from one file to another\n",
    "def copy_file_contents(input_file, output_file):\n",
    "    try:\n",
    "        # Open the input file in read mode\n",
    "        with open(input_file, 'r') as infile:\n",
    "            # Read the content of the input file\n",
    "            content = infile.read()\n",
    "\n",
    "        # Open the output file in write mode\n",
    "        with open(output_file, 'w') as outfile:\n",
    "            # Write the content to the output file\n",
    "            outfile.write(content)\n",
    "\n",
    "        print(f\"Content copied successfully from {input_file} to {output_file}.\")\n",
    "    except FileNotFoundError:\n",
    "        print(f\"The file {input_file} does not exist.\")\n",
    "    except Exception as e:\n",
    "        print(f\"An error occurred: {e}\")\n",
    "\n",
    "# Specify file names\n",
    "input_file_name = \"input.txt\"  # Replace with your input file's name\n",
    "output_file_name = \"output.txt\"  # Replace with your desired output file's name\n",
    "\n",
    "# Call the function\n",
    "copy_file_contents(input_file_name, output_file_name)\n",
    "\n"
   ]
  },
  {
   "cell_type": "code",
   "execution_count": 5,
   "id": "bf34eae2-12c2-4429-863a-19fbf507e28e",
   "metadata": {},
   "outputs": [
    {
     "name": "stdout",
     "output_type": "stream",
     "text": [
      "Error: Division by zero is not allowed.\n"
     ]
    }
   ],
   "source": [
    "#05.How would you catch and handle division by zero error in Python ?\n",
    "try:\n",
    "    # Attempt to divide two numbers\n",
    "    numerator = 10\n",
    "    denominator = 0  # This will cause a ZeroDivisionError\n",
    "    result = numerator / denominator\n",
    "    print(f\"The result is {result}\")\n",
    "except ZeroDivisionError:\n",
    "    # Handle the division by zero error\n",
    "    print(\"Error: Division by zero is not allowed.\")\n"
   ]
  },
  {
   "cell_type": "code",
   "execution_count": 6,
   "id": "10eee51d-88dd-4fc4-a643-4089f723d7eb",
   "metadata": {},
   "outputs": [
    {
     "name": "stdout",
     "output_type": "stream",
     "text": [
      "If an error occurred, it has been logged in 'error_log.txt'.\n"
     ]
    }
   ],
   "source": [
    "#06. Write a Python program that logs an error message to a log file when a division by zero exception occurs ?\n",
    "import logging\n",
    "\n",
    "# Configure the logging settings\n",
    "logging.basicConfig(filename=\"error_log.txt\", \n",
    "                    level=logging.ERROR, \n",
    "                    format=\"%(asctime)s - %(levelname)s - %(message)s\")\n",
    "\n",
    "try:\n",
    "    # Attempt to divide by zero\n",
    "    numerator = 10\n",
    "    denominator = 0  # This will cause a ZeroDivisionError\n",
    "    result = numerator / denominator\n",
    "except ZeroDivisionError:\n",
    "    # Log the error to the log file\n",
    "    logging.error(\"Division by zero occurred. Cannot divide a number by zero.\")\n",
    "\n",
    "print(\"If an error occurred, it has been logged in 'error_log.txt'.\")\n"
   ]
  },
  {
   "cell_type": "code",
   "execution_count": 7,
   "id": "ef12c666-1549-4e9f-b1fa-9ce23a6507f6",
   "metadata": {},
   "outputs": [
    {
     "name": "stdout",
     "output_type": "stream",
     "text": [
      "Log messages have been generated!\n"
     ]
    }
   ],
   "source": [
    "#07.  How do you log information at different levels (INFO, ERROR, WARNING) in Python using the logging module ?\n",
    "import logging\n",
    "\n",
    "# Configure the logging settings\n",
    "logging.basicConfig(level=logging.DEBUG,  # Set the minimum logging level\n",
    "                    format=\"%(asctime)s - %(levelname)s - %(message)s\")\n",
    "\n",
    "# Log messages at different levels\n",
    "logging.debug(\"This is a DEBUG message, useful for detailed troubleshooting.\")\n",
    "logging.info(\"This is an INFO message, providing general information.\")\n",
    "logging.warning(\"This is a WARNING message, indicating a potential issue.\")\n",
    "logging.error(\"This is an ERROR message, highlighting an error.\")\n",
    "logging.critical(\"This is a CRITICAL message, showing a serious failure.\")\n",
    "\n",
    "print(\"Log messages have been generated!\")\n"
   ]
  },
  {
   "cell_type": "code",
   "execution_count": 8,
   "id": "7fdc28c9-0582-46a9-a0de-9f26c486bf91",
   "metadata": {},
   "outputs": [
    {
     "name": "stdout",
     "output_type": "stream",
     "text": [
      "Error: The specified file could not be found. Please check the file name and try again.\n"
     ]
    }
   ],
   "source": [
    "#08. Write a program to handle a file opening error using exception handling ?\n",
    "try:\n",
    "    # Attempt to open a file\n",
    "    with open(\"non_existent_file.txt\", \"r\") as file:\n",
    "        content = file.read()\n",
    "        print(content)\n",
    "except FileNotFoundError:\n",
    "    # Handle the case where the file does not exist\n",
    "    print(\"Error: The specified file could not be found. Please check the file name and try again.\")\n"
   ]
  },
  {
   "cell_type": "code",
   "execution_count": 9,
   "id": "247f50f3-c528-4f3f-b51d-2e2f67be4704",
   "metadata": {},
   "outputs": [
    {
     "name": "stdout",
     "output_type": "stream",
     "text": [
      "['Hello, this is a string written to the file!']\n"
     ]
    }
   ],
   "source": [
    "#09. How can you read a file line by line and store its content in a list in Python ?\n",
    "# Open the file in read mode\n",
    "with open(\"example.txt\", \"r\") as file:\n",
    "    # Read each line and store it in a list\n",
    "    lines = [line.strip() for line in file]\n",
    "\n",
    "# Print the list of lines\n",
    "print(lines)\n"
   ]
  },
  {
   "cell_type": "code",
   "execution_count": 10,
   "id": "5762e811-04ef-4eee-b9f5-b65e5080f16a",
   "metadata": {},
   "outputs": [
    {
     "name": "stdout",
     "output_type": "stream",
     "text": [
      "Data has been successfully appended to the file!\n"
     ]
    }
   ],
   "source": [
    "#10. How can you append data to an existing file in Python?\n",
    "# Open the file in append mode\n",
    "with open(\"example.txt\", \"a\") as file:\n",
    "    # Append new data to the file\n",
    "    file.write(\"\\nThis is a new line of text being appended.\")\n",
    "\n",
    "print(\"Data has been successfully appended to the file!\")\n"
   ]
  },
  {
   "cell_type": "code",
   "execution_count": 11,
   "id": "6b0e2afd-2473-456e-a317-8ea07fc41a67",
   "metadata": {},
   "outputs": [
    {
     "name": "stdout",
     "output_type": "stream",
     "text": [
      "Error: The specified key does not exist in the dictionary.\n"
     ]
    }
   ],
   "source": [
    "#11.  Write a Python program that uses a try-except block to handle an error when attempting to access a dictionary key that doesn't exist ?\n",
    "# Define a dictionary\n",
    "my_dict = {\"name\": \"Alice\", \"age\": 25, \"city\": \"New York\"}\n",
    "\n",
    "try:\n",
    "    # Attempt to access a non-existing key\n",
    "    value = my_dict[\"profession\"]\n",
    "    print(f\"The value is: {value}\")\n",
    "except KeyError:\n",
    "    # Handle the KeyError if the key doesn't exist\n",
    "    print(\"Error: The specified key does not exist in the dictionary.\")\n"
   ]
  },
  {
   "cell_type": "code",
   "execution_count": 15,
   "id": "887b774e-237b-4be2-93b2-3bb6e00e82b8",
   "metadata": {},
   "outputs": [
    {
     "name": "stdin",
     "output_type": "stream",
     "text": [
      "Enter the numerator:  a\n"
     ]
    },
    {
     "name": "stdout",
     "output_type": "stream",
     "text": [
      "Error: Invalid input. Please enter integer values only.\n"
     ]
    }
   ],
   "source": [
    "#12. Write a program that demonstrates using multiple except blocks to handle different types of exceptions ?\n",
    "try:\n",
    "    # Ask the user for input and perform operations\n",
    "    numerator = int(input(\"Enter the numerator: \"))\n",
    "    denominator = int(input(\"Enter the denominator: \"))\n",
    "    result = numerator / denominator\n",
    "    print(f\"The result is: {result}\")\n",
    "\n",
    "except ZeroDivisionError:\n",
    "    # Handle division by zero\n",
    "    print(\"Error: Division by zero is not allowed.\")\n",
    "\n",
    "except ValueError:\n",
    "    # Handle invalid input (non-integer values)\n",
    "    print(\"Error: Invalid input. Please enter integer values only.\")\n",
    "\n",
    "except Exception as e:\n",
    "    # Handle any other unexpected exceptions\n",
    "    print(f\"An unexpected error occurred: {e}\")\n"
   ]
  },
  {
   "cell_type": "code",
   "execution_count": 16,
   "id": "83f7084d-6ada-4650-ad50-6f8f62bd8261",
   "metadata": {},
   "outputs": [
    {
     "name": "stdout",
     "output_type": "stream",
     "text": [
      "Hello, this is a string written to the file!\n",
      "This is a new line of text being appended.\n"
     ]
    }
   ],
   "source": [
    "#13.How would you check if a file exists before attempting to read it in Python ?\n",
    "from pathlib import Path\n",
    "\n",
    "file_path = Path(\"example.txt\")\n",
    "\n",
    "# Check if the file exists\n",
    "if file_path.exists():\n",
    "    with open(file_path, \"r\") as file:\n",
    "        content = file.read()\n",
    "        print(content)\n",
    "else:\n",
    "    print(\"Error: The file does not exist.\")\n"
   ]
  },
  {
   "cell_type": "code",
   "execution_count": 18,
   "id": "160b9173-6d8d-4db3-8fd6-f9a9bbbf1775",
   "metadata": {},
   "outputs": [],
   "source": [
    "#14.Write a program that uses the logging module to log both informational and error messages ?\n",
    "import logging\n",
    "\n",
    "# Configure the logging settings\n",
    "logging.basicConfig(filename=\"app_log.txt\", \n",
    "                    level=logging.DEBUG, \n",
    "                    format=\"%(asctime)s - %(levelname)s - %(message)s\")\n",
    "\n",
    "# Log an informational message\n",
    "logging.info(\"Program started successfully.\")\n",
    "\n",
    "try:\n",
    "    # Perform a task\n",
    "    numerator = 10\n",
    "    denominator = 0  # This will cause a ZeroDivisionError\n",
    "    result = numerator / denominator\n",
    "    logging.info(\"Calculation successful. Result: %s\", result)\n",
    "except ZeroDivisionError:\n",
    "    # Log an error message\n",
    "    logging.error(\"Division by zero error occurred.\")\n",
    "\n",
    "# Another informational message\n",
    "logging.info(\"Program finished execution.\")\n"
   ]
  },
  {
   "cell_type": "code",
   "execution_count": 19,
   "id": "2575b6ca-8427-4899-81a5-37d43a93544c",
   "metadata": {},
   "outputs": [
    {
     "name": "stdout",
     "output_type": "stream",
     "text": [
      "File content:\n",
      "Hello, this is a string written to the file!\n",
      "This is a new line of text being appended.\n"
     ]
    }
   ],
   "source": [
    "#15.Write a Python program that prints the content of a file and handles the case when the file is empty ?\n",
    "try:\n",
    "    # Open the file in read mode\n",
    "    with open(\"example.txt\", \"r\") as file:\n",
    "        # Read the file's content\n",
    "        content = file.read()\n",
    "        \n",
    "        # Check if the file is empty\n",
    "        if not content:\n",
    "            print(\"The file is empty.\")\n",
    "        else:\n",
    "            # Print the file's content\n",
    "            print(\"File content:\")\n",
    "            print(content)\n",
    "\n",
    "except FileNotFoundError:\n",
    "    # Handle the case where the file does not exist\n",
    "    print(\"Error: The file does not exist. Please check the file name.\")\n"
   ]
  },
  {
   "cell_type": "code",
   "execution_count": 20,
   "id": "ed47fa12-f2a0-4fdb-8d6a-ea5dc82b0be4",
   "metadata": {},
   "outputs": [],
   "source": [
    "#16.Demonstrate how to use memory profiling to check the memory usage of a small program ?\n"
   ]
  },
  {
   "cell_type": "code",
   "execution_count": 21,
   "id": "9985e366-b1f1-4dca-b002-fd8f98258c0a",
   "metadata": {},
   "outputs": [
    {
     "name": "stdout",
     "output_type": "stream",
     "text": [
      "Numbers have been written to 'numbers.txt'.\n"
     ]
    }
   ],
   "source": [
    "#17.Write a Python program to create and write a list of numbers to a file, one number per line ?\n",
    "# List of numbers to write to the file\n",
    "numbers = [1, 2, 3, 4, 5, 6, 7, 8, 9, 10]\n",
    "\n",
    "# Open the file in write mode\n",
    "with open(\"numbers.txt\", \"w\") as file:\n",
    "    # Write each number to the file on a new line\n",
    "    for number in numbers:\n",
    "        file.write(f\"{number}\\n\")\n",
    "\n",
    "print(\"Numbers have been written to 'numbers.txt'.\")\n"
   ]
  },
  {
   "cell_type": "code",
   "execution_count": 22,
   "id": "9bc567e2-4344-4bca-9948-2198630661ce",
   "metadata": {},
   "outputs": [
    {
     "name": "stdout",
     "output_type": "stream",
     "text": [
      "Logs are written to 'app.log' with rotation after 1MB.\n"
     ]
    }
   ],
   "source": [
    "#18. How would you implement a basic logging setup that logs to a file with rotation after 1MB ?\n",
    "import logging\n",
    "from logging.handlers import RotatingFileHandler\n",
    "\n",
    "# Set up the logging configuration\n",
    "log_formatter = logging.Formatter(\"%(asctime)s - %(levelname)s - %(message)s\")\n",
    "\n",
    "# Create a RotatingFileHandler\n",
    "log_file = \"app.log\"\n",
    "handler = RotatingFileHandler(log_file, maxBytes=1_000_000, backupCount=3)  # Rotate after 1MB, keep 3 backups\n",
    "handler.setFormatter(log_formatter)\n",
    "\n",
    "# Configure the root logger\n",
    "logger = logging.getLogger()\n",
    "logger.setLevel(logging.DEBUG)  # Log messages from DEBUG level and above\n",
    "logger.addHandler(handler)\n",
    "\n",
    "# Example log messages\n",
    "logger.info(\"This is an informational message.\")\n",
    "logger.warning(\"This is a warning message.\")\n",
    "logger.error(\"This is an error message.\")\n",
    "logger.debug(\"This is a debug message.\")\n",
    "print(\"Logs are written to 'app.log' with rotation after 1MB.\")\n"
   ]
  },
  {
   "cell_type": "code",
   "execution_count": 23,
   "id": "8f7447d6-0476-4f82-94c5-a4eae54a1827",
   "metadata": {},
   "outputs": [
    {
     "name": "stdout",
     "output_type": "stream",
     "text": [
      "Error: List index is out of range.\n"
     ]
    }
   ],
   "source": [
    "#19.Write a program that handles both IndexError and KeyError using a try-except block ?\n",
    "# Define a list and a dictionary\n",
    "my_list = [10, 20, 30]\n",
    "my_dict = {\"name\": \"Alice\", \"age\": 25}\n",
    "\n",
    "try:\n",
    "    # Attempt to access an out-of-range index in the list\n",
    "    print(my_list[5])  # This will raise an IndexError\n",
    "    \n",
    "    # Attempt to access a non-existent key in the dictionary\n",
    "    print(my_dict[\"profession\"])  # This will raise a KeyError\n",
    "\n",
    "except IndexError:\n",
    "    # Handle the case where the list index is out of range\n",
    "    print(\"Error: List index is out of range.\")\n",
    "\n",
    "except KeyError:\n",
    "    # Handle the case where the dictionary key does not exist\n",
    "    print(\"Error: The specified key does not exist in the dictionary.\")\n"
   ]
  },
  {
   "cell_type": "code",
   "execution_count": 24,
   "id": "0f377f34-d8da-4d2b-86ab-ac9f2c5dc57c",
   "metadata": {},
   "outputs": [
    {
     "name": "stdout",
     "output_type": "stream",
     "text": [
      "Hello, this is a string written to the file!\n",
      "This is a new line of text being appended.\n"
     ]
    }
   ],
   "source": [
    "#20.How would you open a file and read its contents using a context manager in Python?\n",
    "# Use a context manager to open the file\n",
    "with open(\"example.txt\", \"r\") as file:\n",
    "    # Read the file's contents\n",
    "    content = file.read()\n",
    "\n",
    "# Print the file's contents\n",
    "print(content)\n"
   ]
  },
  {
   "cell_type": "code",
   "execution_count": 25,
   "id": "787e61df-ac7c-47e2-acb2-e2d4ef4a95eb",
   "metadata": {},
   "outputs": [
    {
     "name": "stdin",
     "output_type": "stream",
     "text": [
      "Enter the word to count:  Priyabarta\n"
     ]
    },
    {
     "name": "stdout",
     "output_type": "stream",
     "text": [
      "The word 'priyabarta' appears 0 time(s) in the file.\n"
     ]
    }
   ],
   "source": [
    "#21.Write a Python program that reads a file and prints the number of occurrences of a specific word ?\n",
    "# Get the word to count from the user\n",
    "word_to_count = input(\"Enter the word to count: \").lower()\n",
    "\n",
    "# Open the file in read mode\n",
    "with open(\"example.txt\", \"r\") as file:\n",
    "    # Read the entire content of the file\n",
    "    content = file.read().lower()  # Convert content to lowercase for case-insensitive matching\n",
    "\n",
    "# Count the occurrences of the word\n",
    "word_count = content.split().count(word_to_count)\n",
    "\n",
    "# Print the result\n",
    "print(f\"The word '{word_to_count}' appears {word_count} time(s) in the file.\")\n"
   ]
  },
  {
   "cell_type": "code",
   "execution_count": 26,
   "id": "15f2975d-f588-4a77-9cf3-1aee62aa34b0",
   "metadata": {},
   "outputs": [
    {
     "name": "stdout",
     "output_type": "stream",
     "text": [
      "The file is not empty.\n"
     ]
    }
   ],
   "source": [
    "#22. How can you check if a file is empty before attempting to read its contents ?\n",
    "import os\n",
    "\n",
    "file_path = \"example.txt\"\n",
    "\n",
    "# Check if the file exists and if it's empty\n",
    "if os.path.exists(file_path):\n",
    "    if os.path.getsize(file_path) == 0:\n",
    "        print(\"The file is empty.\")\n",
    "    else:\n",
    "        print(\"The file is not empty.\")\n",
    "else:\n",
    "    print(\"Error: The file does not exist.\")\n"
   ]
  },
  {
   "cell_type": "code",
   "execution_count": 27,
   "id": "d5c8ac53-9c5d-4045-a357-8f5e324b6a04",
   "metadata": {},
   "outputs": [
    {
     "name": "stdout",
     "output_type": "stream",
     "text": [
      "An error occurred. Check 'file_errors.log' for details.\n"
     ]
    }
   ],
   "source": [
    "#23.Write a Python program that writes to a log file when an error occurs during file handling. \n",
    "import logging\n",
    "\n",
    "# Configure logging settings\n",
    "logging.basicConfig(filename=\"file_errors.log\", \n",
    "                    level=logging.ERROR, \n",
    "                    format=\"%(asctime)s - %(levelname)s - %(message)s\")\n",
    "\n",
    "try:\n",
    "    # Attempt to open a file that may not exist\n",
    "    with open(\"non_existent_file.txt\", \"r\") as file:\n",
    "        content = file.read()\n",
    "        print(content)\n",
    "except FileNotFoundError:\n",
    "    # Log the error to the log file\n",
    "    logging.error(\"Error: The file does not exist. Please check the file name.\")\n",
    "    print(\"An error occurred. Check 'file_errors.log' for details.\")\n",
    "except Exception as e:\n",
    "    # Log any other unexpected errors\n",
    "    logging.error(f\"An unexpected error occurred: {e}\")\n",
    "    print(\"An unexpected error occurred. Check 'file_errors.log' for details.\")\n"
   ]
  },
  {
   "cell_type": "code",
   "execution_count": null,
   "id": "2166b004-df61-4a3b-969a-cbdc779376e4",
   "metadata": {},
   "outputs": [],
   "source": []
  }
 ],
 "metadata": {
  "kernelspec": {
   "display_name": "Python 3 (ipykernel)",
   "language": "python",
   "name": "python3"
  },
  "language_info": {
   "codemirror_mode": {
    "name": "ipython",
    "version": 3
   },
   "file_extension": ".py",
   "mimetype": "text/x-python",
   "name": "python",
   "nbconvert_exporter": "python",
   "pygments_lexer": "ipython3",
   "version": "3.12.7"
  }
 },
 "nbformat": 4,
 "nbformat_minor": 5
}
